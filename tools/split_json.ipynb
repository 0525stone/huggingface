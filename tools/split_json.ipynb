{
 "cells": [
  {
   "cell_type": "markdown",
   "id": "6cfa2707",
   "metadata": {},
   "source": [
    "# json file split\n",
    "- validation set 10% 따로\n",
    "    - small dataset : 100개만 따로 뽑게 "
   ]
  },
  {
   "cell_type": "code",
   "execution_count": 26,
   "id": "4a741f4e",
   "metadata": {},
   "outputs": [],
   "source": [
    "import json\n",
    "import glob\n",
    "import random\n",
    "import pandas as pd\n",
    "import copy\n",
    "random.seed(25)"
   ]
  },
  {
   "cell_type": "code",
   "execution_count": 15,
   "id": "08abb0a7",
   "metadata": {},
   "outputs": [],
   "source": [
    "# read json file\n",
    "filename = '../data/aihub/mrc/ko_nia_normal_squad_all.json'\n",
    "\n",
    "with open (filename, 'r') as f:\n",
    "    total = json.load(f)\n",
    "    data = total['data']\n"
   ]
  },
  {
   "cell_type": "code",
   "execution_count": 16,
   "id": "ae19bc87",
   "metadata": {},
   "outputs": [
    {
     "data": {
      "text/plain": [
       "(47314, '15657', '20953.txt')"
      ]
     },
     "execution_count": 16,
     "metadata": {},
     "output_type": "execute_result"
    }
   ],
   "source": [
    "len(data), data[0]['title'], data[-1]['title']"
   ]
  },
  {
   "cell_type": "code",
   "execution_count": 17,
   "id": "8c03e281",
   "metadata": {},
   "outputs": [],
   "source": [
    "random.shuffle(data)"
   ]
  },
  {
   "cell_type": "code",
   "execution_count": 18,
   "id": "49773457",
   "metadata": {},
   "outputs": [
    {
     "data": {
      "text/plain": [
       "(47314, '25480.txt', '20180103063322000')"
      ]
     },
     "execution_count": 18,
     "metadata": {},
     "output_type": "execute_result"
    }
   ],
   "source": [
    "len(data), data[0]['title'], data[-1]['title']"
   ]
  },
  {
   "cell_type": "code",
   "execution_count": 19,
   "id": "3bac1c8e",
   "metadata": {},
   "outputs": [
    {
     "data": {
      "text/plain": [
       "4731"
      ]
     },
     "execution_count": 19,
     "metadata": {},
     "output_type": "execute_result"
    }
   ],
   "source": [
    "len(data[:4731])"
   ]
  },
  {
   "cell_type": "code",
   "execution_count": 21,
   "id": "e1380033",
   "metadata": {},
   "outputs": [],
   "source": [
    "del total['data']"
   ]
  },
  {
   "cell_type": "code",
   "execution_count": 22,
   "id": "1da57977",
   "metadata": {},
   "outputs": [
    {
     "data": {
      "text/plain": [
       "{'creator': 'MINDs Lab.', 'version': 1}"
      ]
     },
     "execution_count": 22,
     "metadata": {},
     "output_type": "execute_result"
    }
   ],
   "source": [
    "total"
   ]
  },
  {
   "cell_type": "code",
   "execution_count": 27,
   "id": "9c3c1c55",
   "metadata": {},
   "outputs": [
    {
     "data": {
      "text/plain": [
       "42583"
      ]
     },
     "execution_count": 27,
     "metadata": {},
     "output_type": "execute_result"
    }
   ],
   "source": [
    "train = copy.deepcopy(total)\n",
    "train['data'] = data[4731:]\n",
    "len(train['data'])"
   ]
  },
  {
   "cell_type": "code",
   "execution_count": 29,
   "id": "d2cd0ca4",
   "metadata": {},
   "outputs": [
    {
     "data": {
      "text/plain": [
       "4731"
      ]
     },
     "execution_count": 29,
     "metadata": {},
     "output_type": "execute_result"
    }
   ],
   "source": [
    "val = copy.deepcopy(total)\n",
    "val['data'] = data[:4731]\n",
    "len(val['data'])"
   ]
  },
  {
   "cell_type": "code",
   "execution_count": 31,
   "id": "fa82fa9d",
   "metadata": {},
   "outputs": [
    {
     "data": {
      "text/plain": [
       "100"
      ]
     },
     "execution_count": 31,
     "metadata": {},
     "output_type": "execute_result"
    }
   ],
   "source": [
    "small = copy.deepcopy(total)\n",
    "small['data'] = data[:100]\n",
    "len(small['data'])"
   ]
  },
  {
   "cell_type": "code",
   "execution_count": 33,
   "id": "48bcc56d",
   "metadata": {},
   "outputs": [
    {
     "ename": "FileNotFoundError",
     "evalue": "[Errno 2] No such file or directory: '../data/before_refine/aihub_mrc_train.json'",
     "output_type": "error",
     "traceback": [
      "\u001b[0;31m---------------------------------------------------------------------------\u001b[0m",
      "\u001b[0;31mFileNotFoundError\u001b[0m                         Traceback (most recent call last)",
      "Input \u001b[0;32mIn [33]\u001b[0m, in \u001b[0;36m<cell line: 4>\u001b[0;34m()\u001b[0m\n\u001b[1;32m      2\u001b[0m valname \u001b[38;5;241m=\u001b[39m \u001b[38;5;124m'\u001b[39m\u001b[38;5;124m../data/before_refine/aihub_mrc_val.json\u001b[39m\u001b[38;5;124m'\u001b[39m\n\u001b[1;32m      3\u001b[0m smallname \u001b[38;5;241m=\u001b[39m \u001b[38;5;124m'\u001b[39m\u001b[38;5;124m../data/before_refine/aihib_mrc_small.json\u001b[39m\u001b[38;5;124m'\u001b[39m\n\u001b[0;32m----> 4\u001b[0m \u001b[38;5;28;01mwith\u001b[39;00m \u001b[38;5;28;43mopen\u001b[39;49m\u001b[43m(\u001b[49m\u001b[43mtrainname\u001b[49m\u001b[43m,\u001b[49m\u001b[38;5;124;43m'\u001b[39;49m\u001b[38;5;124;43mw\u001b[39;49m\u001b[38;5;124;43m'\u001b[39;49m\u001b[43m)\u001b[49m \u001b[38;5;28;01mas\u001b[39;00m f:\n\u001b[1;32m      5\u001b[0m     json\u001b[38;5;241m.\u001b[39mdump(train, f, indent\u001b[38;5;241m=\u001b[39m\u001b[38;5;241m4\u001b[39m, sort_keys\u001b[38;5;241m=\u001b[39m\u001b[38;5;28;01mTrue\u001b[39;00m)\n\u001b[1;32m      6\u001b[0m \u001b[38;5;28;01mwith\u001b[39;00m \u001b[38;5;28mopen\u001b[39m(valname,\u001b[38;5;124m'\u001b[39m\u001b[38;5;124mw\u001b[39m\u001b[38;5;124m'\u001b[39m) \u001b[38;5;28;01mas\u001b[39;00m f:\n",
      "\u001b[0;31mFileNotFoundError\u001b[0m: [Errno 2] No such file or directory: '../data/before_refine/aihub_mrc_train.json'"
     ]
    }
   ],
   "source": [
    "trainname = '../data/mrc/aihub_mrc_train.json'\n",
    "valname = '../data/mrc/aihub_mrc_val.json'\n",
    "smallname = '../data/mrc/aihib_mrc_small.json'\n",
    "with open(trainname,'w') as f:\n",
    "    json.dump(train, f, indent=4, sort_keys=True)\n",
    "with open(valname,'w') as f:\n",
    "    json.dump(val, f, indent=4, sort_keys=True)\n",
    "with open(smallname,'w') as f:\n",
    "    json.dump(small, f, indent=4, sort_keys=True)\n",
    "\n",
    "\n",
    "\n",
    "# with open(trainname, 'r') as f:\n",
    "#     train_data = json.load(f)\n",
    "# with open(valname, 'r') as f:\n",
    "#     val_data = json.load(f)"
   ]
  },
  {
   "cell_type": "code",
   "execution_count": 34,
   "id": "758d1c40",
   "metadata": {},
   "outputs": [
    {
     "name": "stdout",
     "output_type": "stream",
     "text": [
      "data_refine.py          split_json.ipynb        split_korquad_format.py\r\n"
     ]
    }
   ],
   "source": [
    "!ls"
   ]
  },
  {
   "cell_type": "code",
   "execution_count": 35,
   "id": "ebb9fe46",
   "metadata": {},
   "outputs": [],
   "source": [
    "import json"
   ]
  },
  {
   "cell_type": "code",
   "execution_count": 37,
   "id": "dbf348ec",
   "metadata": {},
   "outputs": [],
   "source": [
    "filename = '../data/aihub/mrc/aihub_mrc_noa.json'\n",
    "\n",
    "with open (filename, 'r') as f:\n",
    "    total = json.load(f)\n",
    "    data = total['data']\n",
    "\n",
    "with open ('../data/aihub/mrc/aihub_mrc_noa_ar.json', 'w') as f:\n",
    "    json.dump(total, f, indent=4, sort_keys=True)"
   ]
  },
  {
   "cell_type": "code",
   "execution_count": null,
   "id": "c6610727",
   "metadata": {},
   "outputs": [],
   "source": []
  }
 ],
 "metadata": {
  "kernelspec": {
   "display_name": "Python 3 (ipykernel)",
   "language": "python",
   "name": "python3"
  },
  "language_info": {
   "codemirror_mode": {
    "name": "ipython",
    "version": 3
   },
   "file_extension": ".py",
   "mimetype": "text/x-python",
   "name": "python",
   "nbconvert_exporter": "python",
   "pygments_lexer": "ipython3",
   "version": "3.8.13"
  }
 },
 "nbformat": 4,
 "nbformat_minor": 5
}
